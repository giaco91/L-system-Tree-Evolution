{
 "cells": [
  {
   "cell_type": "code",
   "execution_count": 1,
   "metadata": {
    "collapsed": true
   },
   "outputs": [],
   "source": [
    "import numpy as np\n",
    "import matplotlib.pyplot as plt\n",
    "import matplotlib.animation as animation\n",
    "import os\n",
    "import random\n",
    "import pickle\n",
    "import argparse\n",
    "from copy import deepcopy\n",
    "from IPython.display import clear_output\n",
    "\n",
    "from l_system import *\n",
    "from utils import *"
   ]
  },
  {
   "cell_type": "code",
   "execution_count": 2,
   "metadata": {
    "collapsed": true
   },
   "outputs": [],
   "source": [
    "l_system=L_system()\n",
    "l_system.update_vocabulary({'X','F','-','+','[',']'})\n",
    "#l_system.add_rule('X', 'F+[[X]-X]-F[-FX]+X',verbose=True)\n",
    "l_system.add_rule('X', 'F[+X]-F',verbose=True)\n",
    "l_system.add_rule('F', 'FF',verbose=True)\n",
    "tree_interpreter=Tree_interpreter(plus_angle=np.pi/8,minus_angle=-np.pi/6,randomize_angle=False)\n",
    "n_iter=6"
   ]
  },
  {
   "cell_type": "code",
   "execution_count": 3,
   "metadata": {
    "collapsed": true
   },
   "outputs": [],
   "source": [
    "IMG_WIDTH = 130\n",
    "IMG_HEIGHT = IMG_WIDTH\n",
    "n_trees=40\n",
    "def get_offspring(ls,ti,n_iter):\n",
    "    images=[]\n",
    "    ls_offspring=[ls]\n",
    "    ti_offspring=[ti]\n",
    "    n_iter_offspring=[n_iter]\n",
    "    #keep also the \n",
    "    w=ls.evolution('X',n_iter)\n",
    "    segments=ti.render(w)\n",
    "    im=draw_tree(segments,im_size=IMG_WIDTH)\n",
    "    im.save('images/tree.png')\n",
    "    file = open(\"images/tree.png\", \"rb\")\n",
    "    png_image = file.read()\n",
    "    images.append(png_image)\n",
    "    print('generate offspring...')\n",
    "    for i in range(n_trees-1):\n",
    "        ls_copy=deepcopy(ls)\n",
    "        ti_copy=deepcopy(ti)\n",
    "        ls_copy.point_mutation('X',0.04,immune={'[',']'})\n",
    "        ls_copy.perm_mutation('X',0.05)\n",
    "        ls_copy.loss_mutation('X',0.05,immune={'[',']'})\n",
    "        ls_copy.add_mutation('X',0.02,words={'[X]','[F]'},immune={'[',']'})\n",
    "        ti_copy.angle_mutation()\n",
    "        ls_offspring.append(ls_copy)\n",
    "        ti_offspring.append(ti_copy)\n",
    "        r=np.random.rand()\n",
    "        if r<0.1:\n",
    "            n=min(8,n_iter+1)\n",
    "        elif r>0.9:\n",
    "            n=max(2,n_iter-1)\n",
    "        else:\n",
    "            n=n_iter\n",
    "        n_iter_offspring.append(n)\n",
    "        w=ls_copy.evolution('X',n)\n",
    "        im=draw_tree(ti_copy.render(w),im_size=IMG_WIDTH)\n",
    "        im.save('images/tree.png')\n",
    "        file = open(\"images/tree.png\", \"rb\")\n",
    "        png_image = file.read()\n",
    "        images.append(png_image)\n",
    "    return images,ls_offspring,ti_offspring,n_iter_offspring\n"
   ]
  },
  {
   "cell_type": "code",
   "execution_count": 4,
   "metadata": {
    "collapsed": true
   },
   "outputs": [],
   "source": [
    "COLS = 5\n",
    "ROWS = 8\n",
    "\n",
    "def on_click(b):\n",
    "    global ls_offspring,ti_offspring,n_iter_offspring\n",
    "    clear_output()\n",
    "    number_string=b.description.split(' ')[0]\n",
    "    tree_number=int(number_string)\n",
    "    print('selected tree: '+str(tree_number)+', with gene code: '+str(ls_offspring[tree_number].rule['X'])+' and iterations: '+str(n_iter_offspring[tree_number]))\n",
    "    IMAGES,ls_offspring,ti_offspring,n_iter_offspring=get_offspring(ls_offspring[tree_number],ti_offspring[tree_number],n_iter_offspring[tree_number])\n",
    "    show_offsprings(IMAGES,ROWS,COLS,IMG_WIDTH=IMG_WIDTH,IMG_HEIGHT=IMG_HEIGHT)\n",
    "    \n",
    "import ipywidgets as widgets\n",
    "import functools\n",
    "\n",
    "\n",
    "def show_offsprings(IMAGES,ROWS,COLS,IMG_WIDTH=200,IMG_HEIGHT=200):\n",
    "    #clear_output()\n",
    "    rows = []\n",
    "    for row in range(ROWS):\n",
    "        cols = []\n",
    "        for col in range(COLS):\n",
    "            index = row * COLS + col\n",
    "            image = widgets.Image(\n",
    "                value=IMAGES[index], width=IMG_WIDTH, height=IMG_HEIGHT\n",
    "            )\n",
    "            if index==0:\n",
    "                add_string=' ancestor'\n",
    "            else:\n",
    "                add_string=' '\n",
    "            button = widgets.Button(description=str(index)+add_string)\n",
    "            button.on_click(on_click)\n",
    "            box = widgets.VBox([image, button])\n",
    "            cols.append(box)\n",
    "        # Create a horizontal layout box, grouping all the columns together\n",
    "        rows.append(widgets.HBox(cols))\n",
    "    # Create a vertical layout box, grouping all the rows together\n",
    "    result = widgets.VBox(rows)\n",
    "    display(result)\n",
    "    \n",
    "    \n",
    "    \n",
    "    \n",
    "    \n",
    "    \n",
    "    \n",
    "    \n",
    "    \n",
    "    \n",
    "    \n",
    "    \n",
    "    \n",
    "    \n",
    "    \n",
    "    \n",
    "    \n",
    "    \n",
    "    "
   ]
  },
  {
   "cell_type": "code",
   "execution_count": 5,
   "metadata": {},
   "outputs": [
    {
     "name": "stdout",
     "output_type": "stream",
     "text": [
      "selected tree: 32, with gene code: X[FX]-XX and iterations: 8\n",
      "generate offspring...\n"
     ]
    },
    {
     "data": {
      "application/vnd.jupyter.widget-view+json": {
       "model_id": "389cbc2a69de4e28b2f16ec8377ae6ea",
       "version_major": 2,
       "version_minor": 0
      },
      "text/plain": [
       "A Jupyter Widget"
      ]
     },
     "metadata": {},
     "output_type": "display_data"
    }
   ],
   "source": [
    "IMAGES,ls_offspring,ti_offspring,n_iter_offspring=get_offspring(l_system,tree_interpreter,n_iter)\n",
    "show_offsprings(IMAGES,ROWS,COLS,IMG_WIDTH=IMG_WIDTH,IMG_HEIGHT=IMG_HEIGHT)"
   ]
  },
  {
   "cell_type": "code",
   "execution_count": null,
   "metadata": {
    "collapsed": true
   },
   "outputs": [],
   "source": []
  },
  {
   "cell_type": "code",
   "execution_count": null,
   "metadata": {
    "collapsed": true
   },
   "outputs": [],
   "source": []
  }
 ],
 "metadata": {
  "kernelspec": {
   "display_name": "Python 3",
   "language": "python",
   "name": "python3"
  },
  "language_info": {
   "codemirror_mode": {
    "name": "ipython",
    "version": 3
   },
   "file_extension": ".py",
   "mimetype": "text/x-python",
   "name": "python",
   "nbconvert_exporter": "python",
   "pygments_lexer": "ipython3",
   "version": "3.6.2"
  }
 },
 "nbformat": 4,
 "nbformat_minor": 2
}
