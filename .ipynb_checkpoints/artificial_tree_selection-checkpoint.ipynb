{
 "cells": [
  {
   "cell_type": "code",
   "execution_count": 1,
   "metadata": {},
   "outputs": [],
   "source": [
    "import numpy as np\n",
    "import matplotlib.pyplot as plt\n",
    "import matplotlib.animation as animation\n",
    "import os\n",
    "import random\n",
    "import pickle\n",
    "import argparse\n",
    "from copy import deepcopy\n",
    "from IPython.display import clear_output\n",
    "\n",
    "import ipywidgets as widgets\n",
    "import functools\n",
    "\n",
    "from l_system import *\n",
    "from utils import *"
   ]
  },
  {
   "cell_type": "code",
   "execution_count": 2,
   "metadata": {},
   "outputs": [],
   "source": [
    "# create the l-system object\n",
    "l_system=L_system()\n",
    "# initiate the l-system's vocabulary\n",
    "l_system.update_vocabulary({'X','F','-','+','[',']'})\n",
    "# add the l-system rules\n",
    "#l_system.add_rule('X', 'F+[[X]-X]-F[-FX]+X',verbose=True)\n",
    "l_system.add_rule('X', 'F[+X]-F',verbose=True)\n",
    "l_system.add_rule('F', 'FF',verbose=True)\n",
    "#create the interpreter of the l-system - interpreting it as a rule for tree grow\n",
    "tree_interpreter=Tree_interpreter(plus_angle=np.pi/8,minus_angle=-np.pi/6,randomize_angle=False)\n",
    "n_iter=5"
   ]
  },
  {
   "cell_type": "code",
   "execution_count": 3,
   "metadata": {},
   "outputs": [],
   "source": [
    "#image resolution\n",
    "IMG_WIDTH = 400\n",
    "IMG_HEIGHT = IMG_WIDTH\n",
    "#number of total tree created\n",
    "\n",
    "\n",
    "def get_offspring(ls,ti,n_iter):\n",
    "    images=[]#here we collect the tree images\n",
    "    ls_offspring=[ls]#here we collect the l-system objects of the offspring\n",
    "    ti_offspring=[ti]#here we collect the tree interpreter objects of the offspring\n",
    "    n_iter_offspring=[n_iter]#here we collect the recursive depth of the offspring\n",
    "    w,depth_list=ls.evolution('X',n_iter)#this is the recursive word creation\n",
    "    print(len(w))\n",
    "    print(len(depth_list))\n",
    "    print(depth_list)\n",
    "    raise ValueError('asdf')\n",
    "    segments=ti.render(w)#the word is rendered to a tree\n",
    "    im=draw_tree(segments,im_size=IMG_WIDTH)#the tree is drawn to an actual image\n",
    "    #we convert the PIL image to a png image\n",
    "    im.save('images/tree.png')\n",
    "    file = open(\"images/tree.png\", \"rb\")\n",
    "    png_image = file.read()\n",
    "    images.append(png_image)\n",
    "    print('generate offspring...')\n",
    "    #this is the mutation loop for the offspring\n",
    "    for i in range(n_trees-1):\n",
    "        ls_copy=deepcopy(ls)\n",
    "        ti_copy=deepcopy(ti)\n",
    "        #apply mutations\n",
    "        ls_copy.point_mutation('X',0.04,immune={'[',']'})\n",
    "        ls_copy.perm_mutation('X',0.05)\n",
    "        ls_copy.loss_mutation('X',0.05,immune={'[',']'})\n",
    "        ls_copy.add_mutation('X',0.03,words={'[X]','[F]'},immune={'[',']'})\n",
    "        ti_copy.angle_mutation()\n",
    "        ls_offspring.append(ls_copy)\n",
    "        ti_offspring.append(ti_copy)\n",
    "        r=np.random.rand()\n",
    "        if r<0.1:\n",
    "            n=min(9,n_iter+1)\n",
    "        elif r>0.9:\n",
    "            n=max(2,n_iter-1)\n",
    "        else:\n",
    "            n=n_iter\n",
    "        n_iter_offspring.append(n)\n",
    "        w,_=ls_copy.evolution('X',n)#create the recursive word off the mutated tree\n",
    "        im=draw_tree(ti_copy.render(w),im_size=IMG_WIDTH)#interprete it as a tree and draw it\n",
    "        #convert the PIL image to png formate\n",
    "        im.save('images/tree.png')\n",
    "        file = open(\"images/tree.png\", \"rb\")\n",
    "        png_image = file.read()\n",
    "        images.append(png_image)\n",
    "    return images,ls_offspring,ti_offspring,n_iter_offspring\n"
   ]
  },
  {
   "cell_type": "code",
   "execution_count": 4,
   "metadata": {},
   "outputs": [
    {
     "name": "stdout",
     "output_type": "stream",
     "text": [
      "83\n",
      "83\n"
     ]
    },
    {
     "ename": "ValueError",
     "evalue": "asdf",
     "output_type": "error",
     "traceback": [
      "\u001b[0;31m---------------------------------------------------------------------------\u001b[0m",
      "\u001b[0;31mValueError\u001b[0m                                Traceback (most recent call last)",
      "\u001b[0;32m<ipython-input-4-772c6d1b156f>\u001b[0m in \u001b[0;36m<module>\u001b[0;34m\u001b[0m\n\u001b[1;32m     47\u001b[0m     \u001b[0;32mreturn\u001b[0m \u001b[0mresult\u001b[0m\u001b[0;34m\u001b[0m\u001b[0;34m\u001b[0m\u001b[0m\n\u001b[1;32m     48\u001b[0m \u001b[0;34m\u001b[0m\u001b[0m\n\u001b[0;32m---> 49\u001b[0;31m \u001b[0mIMAGES\u001b[0m\u001b[0;34m,\u001b[0m\u001b[0mls_offspring\u001b[0m\u001b[0;34m,\u001b[0m\u001b[0mti_offspring\u001b[0m\u001b[0;34m,\u001b[0m\u001b[0mn_iter_offspring\u001b[0m\u001b[0;34m=\u001b[0m\u001b[0mget_offspring\u001b[0m\u001b[0;34m(\u001b[0m\u001b[0ml_system\u001b[0m\u001b[0;34m,\u001b[0m\u001b[0mtree_interpreter\u001b[0m\u001b[0;34m,\u001b[0m\u001b[0mn_iter\u001b[0m\u001b[0;34m)\u001b[0m\u001b[0;34m\u001b[0m\u001b[0;34m\u001b[0m\u001b[0m\n\u001b[0m",
      "\u001b[0;32m<ipython-input-3-dd20d6cb5a1b>\u001b[0m in \u001b[0;36mget_offspring\u001b[0;34m(ls, ti, n_iter)\u001b[0m\n\u001b[1;32m     13\u001b[0m     \u001b[0mprint\u001b[0m\u001b[0;34m(\u001b[0m\u001b[0mlen\u001b[0m\u001b[0;34m(\u001b[0m\u001b[0mw\u001b[0m\u001b[0;34m)\u001b[0m\u001b[0;34m)\u001b[0m\u001b[0;34m\u001b[0m\u001b[0;34m\u001b[0m\u001b[0m\n\u001b[1;32m     14\u001b[0m     \u001b[0mprint\u001b[0m\u001b[0;34m(\u001b[0m\u001b[0mlen\u001b[0m\u001b[0;34m(\u001b[0m\u001b[0mdepth_list\u001b[0m\u001b[0;34m)\u001b[0m\u001b[0;34m)\u001b[0m\u001b[0;34m\u001b[0m\u001b[0;34m\u001b[0m\u001b[0m\n\u001b[0;32m---> 15\u001b[0;31m     \u001b[0;32mraise\u001b[0m \u001b[0mValueError\u001b[0m\u001b[0;34m(\u001b[0m\u001b[0;34m'asdf'\u001b[0m\u001b[0;34m)\u001b[0m\u001b[0;34m\u001b[0m\u001b[0;34m\u001b[0m\u001b[0m\n\u001b[0m\u001b[1;32m     16\u001b[0m     \u001b[0msegments\u001b[0m\u001b[0;34m=\u001b[0m\u001b[0mti\u001b[0m\u001b[0;34m.\u001b[0m\u001b[0mrender\u001b[0m\u001b[0;34m(\u001b[0m\u001b[0mw\u001b[0m\u001b[0;34m)\u001b[0m\u001b[0;31m#the word is rendered to a tree\u001b[0m\u001b[0;34m\u001b[0m\u001b[0;34m\u001b[0m\u001b[0m\n\u001b[1;32m     17\u001b[0m     \u001b[0mim\u001b[0m\u001b[0;34m=\u001b[0m\u001b[0mdraw_tree\u001b[0m\u001b[0;34m(\u001b[0m\u001b[0msegments\u001b[0m\u001b[0;34m,\u001b[0m\u001b[0mim_size\u001b[0m\u001b[0;34m=\u001b[0m\u001b[0mIMG_WIDTH\u001b[0m\u001b[0;34m)\u001b[0m\u001b[0;31m#the tree is drawn to an actual image\u001b[0m\u001b[0;34m\u001b[0m\u001b[0;34m\u001b[0m\u001b[0m\n",
      "\u001b[0;31mValueError\u001b[0m: asdf"
     ]
    }
   ],
   "source": [
    "#number of colums and rows shown\n",
    "COLS = 8\n",
    "ROWS = 3\n",
    "n_trees=COLS*ROWS\n",
    "#the function on_click defines what happens if we select a parental tree\n",
    "def on_click(b):\n",
    "    global ls_offspring,ti_offspring,n_iter_offspring,IMAGES\n",
    "    clear_output()\n",
    "    number_string=b.description.split(' ')[0]\n",
    "    tree_number=int(number_string)\n",
    "    selected_img=widgets.Image(\n",
    "        value=IMAGES[tree_number],\n",
    "        format='png',\n",
    "        width=600,\n",
    "        height=600,\n",
    "        )\n",
    "    print('selected tree: '+str(tree_number)+', with gene code: '+str(ls_offspring[tree_number].rule['X'])+' and recursive depth: '+str(n_iter_offspring[tree_number]))\n",
    "    display(selected_img)\n",
    "    IMAGES,ls_offspring,ti_offspring,n_iter_offspring=get_offspring(ls_offspring[tree_number],ti_offspring[tree_number],n_iter_offspring[tree_number])\n",
    "    show_offsprings(IMAGES,ROWS,COLS,IMG_WIDTH=IMG_WIDTH,IMG_HEIGHT=IMG_HEIGHT)\n",
    "\n",
    "\n",
    "#this function actually arranges the offspring in a nice table with bottoms to click\n",
    "def show_offsprings(IMAGES,ROWS,COLS,IMG_WIDTH=200,IMG_HEIGHT=200):\n",
    "    rows = []\n",
    "    for row in range(ROWS):\n",
    "        cols = []\n",
    "        for col in range(COLS):\n",
    "            index = row * COLS + col\n",
    "            image = widgets.Image(\n",
    "                value=IMAGES[index], width=IMG_WIDTH, height=IMG_HEIGHT\n",
    "            )\n",
    "            if index==0:\n",
    "                add_string=' ancestor'\n",
    "            else:\n",
    "                add_string=' '\n",
    "            button = widgets.Button(description=str(index)+add_string)\n",
    "            button.on_click(on_click)\n",
    "            box = widgets.VBox([image, button])\n",
    "            cols.append(box)\n",
    "        # Create a horizontal layout box, grouping all the columns together\n",
    "        rows.append(widgets.HBox(cols))\n",
    "    # Create a vertical layout box, grouping all the rows together\n",
    "    result = widgets.VBox(rows)\n",
    "    clear_output()\n",
    "    display(result)\n",
    "    return result\n",
    "    \n",
    "IMAGES,ls_offspring,ti_offspring,n_iter_offspring=get_offspring(l_system,tree_interpreter,n_iter)"
   ]
  },
  {
   "cell_type": "code",
   "execution_count": null,
   "metadata": {},
   "outputs": [],
   "source": [
    "_=show_offsprings(IMAGES,ROWS,COLS,IMG_WIDTH=IMG_WIDTH,IMG_HEIGHT=IMG_HEIGHT)"
   ]
  }
 ],
 "metadata": {
  "kernelspec": {
   "display_name": "Python 3",
   "language": "python",
   "name": "python3"
  },
  "language_info": {
   "codemirror_mode": {
    "name": "ipython",
    "version": 3
   },
   "file_extension": ".py",
   "mimetype": "text/x-python",
   "name": "python",
   "nbconvert_exporter": "python",
   "pygments_lexer": "ipython3",
   "version": "3.7.4"
  }
 },
 "nbformat": 4,
 "nbformat_minor": 2
}
